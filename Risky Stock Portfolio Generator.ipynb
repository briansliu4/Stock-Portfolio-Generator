{
 "cells": [
  {
   "cell_type": "code",
   "execution_count": null,
   "metadata": {},
   "outputs": [],
   "source": [
    "from IPython.display import display, Math, Latex\n",
    "\n",
    "import pandas as pd\n",
    "import numpy as np\n",
    "import numpy_financial as npf\n",
    "import yfinance as yf\n",
    "import matplotlib.pyplot as plt\n",
    "from datetime import datetime"
   ]
  },
  {
   "cell_type": "code",
   "execution_count": null,
   "metadata": {},
   "outputs": [],
   "source": [
    "# Reads the Tickers.csv file, and outputs a dataframe of all tickers. \n",
    "tickers = pd.read_csv(\"Tickers.csv\")"
   ]
  },
  {
   "cell_type": "code",
   "execution_count": null,
   "metadata": {},
   "outputs": [],
   "source": [
    "# Creating an empty list, where the ticker names will be stored. \n",
    "tickers_lst = []\n",
    "\n",
    "# A for loop to append all tickers from the DataFrame into a list\n",
    "for i in range(len(tickers)):\n",
    "    tickers_lst.append(tickers.iloc[i][0])\n",
    "\n",
    "# One last ticker remaining in the column header, so also append that to the list \n",
    "tickers_lst.append(tickers.columns.values[0])"
   ]
  },
  {
   "cell_type": "code",
   "execution_count": null,
   "metadata": {},
   "outputs": [],
   "source": [
    "# Create an empty list where valid tickers will be stored \n",
    "valid_tickers = []\n",
    "# For loop to check if each ticker is valid according to instructions, if true then append to the list \n",
    "for each_ticker in tickers_lst:\n",
    "    stock = yf.Ticker(each_ticker)\n",
    "    avg_volume= stock.history(start=\"2021-07-02\", end = \"2021-10-21\").Volume.mean()\n",
    "    if avg_volume >= 10000 and stock.info['market'] == 'us_market':\n",
    "        valid_tickers.append(each_ticker)"
   ]
  },
  {
   "cell_type": "code",
   "execution_count": null,
   "metadata": {},
   "outputs": [],
   "source": [
    "# Variables for start dates and end dates to get the history of the valid tickers \n",
    "start_date='2018-11-20' \n",
    "end_date=\"2021-11-20\""
   ]
  },
  {
   "cell_type": "code",
   "execution_count": null,
   "metadata": {},
   "outputs": [],
   "source": [
    "# Creates a dictionary with the tickers as keys and their closing prices as values\n",
    "ticker_hist_dict = {}\n",
    "for each_ticker in valid_tickers:\n",
    "    ticker = yf.Ticker(each_ticker)\n",
    "    close = ticker.history(start=start_date, end=end_date).Close\n",
    "    ticker_hist_dict.update({each_ticker: close})"
   ]
  },
  {
   "cell_type": "code",
   "execution_count": null,
   "metadata": {},
   "outputs": [],
   "source": [
    "# Creating an empty list that will store the tickers of our final portfolio \n",
    "portfolio = []"
   ]
  },
  {
   "cell_type": "code",
   "execution_count": null,
   "metadata": {},
   "outputs": [],
   "source": [
    "# Adding the the stock with maximum standard deviation as our first stock in the portfolio\n",
    "ticker_hist_df = pd.DataFrame(ticker_hist_dict)\n",
    "std = pd.DataFrame(ticker_hist_df.pct_change().std())\n",
    "std.columns = [\"Standard deviations\"]\n",
    "max_std = max(ticker_hist_df.pct_change().std())\n",
    "for index, row in std.iterrows():\n",
    "    if max_std == row[\"Standard deviations\"]:\n",
    "        portfolio.append(index)"
   ]
  },
  {
   "cell_type": "code",
   "execution_count": null,
   "metadata": {},
   "outputs": [],
   "source": [
    "# Creating a dictionary that will store the correlation between all the remaining stocks\n",
    "# and the stock with the maximum standard deviation in the portfolio that was previously chosen\n",
    "ticker = yf.Ticker(portfolio[0]).history(start=start_date, end =end_date).Close\n",
    "correlation = {}\n",
    "ticker_df = pd.DataFrame(ticker)\n",
    "for each_ticker in valid_tickers: \n",
    "    if each_ticker != portfolio[0]:\n",
    "        ticker_df[each_ticker] = yf.Ticker(each_ticker).history(start=start_date, end =end_date).Close      \n",
    "        correlation.update({each_ticker:ticker_df.Close.corr(ticker_df[each_ticker])})\n",
    "correlation"
   ]
  },
  {
   "cell_type": "code",
   "execution_count": null,
   "metadata": {},
   "outputs": [],
   "source": [
    "# Choosing the remaining 9 stocks according to their correlation with the first stock\n",
    "for i in range(9):\n",
    "    portfolio.append(max(correlation, key=correlation.get))\n",
    "    del(correlation[max(correlation, key=correlation.get)])"
   ]
  },
  {
   "cell_type": "code",
   "execution_count": null,
   "metadata": {},
   "outputs": [],
   "source": [
    "# printing out our final portfolio \n",
    "portfolio"
   ]
  },
  {
   "cell_type": "code",
   "execution_count": null,
   "metadata": {},
   "outputs": [],
   "source": [
    "# Defining function that returns a dataframe with tickers and their closing prices\n",
    "def history(list_of_tickers, start_date, end_date):\n",
    "    hist_dict = {} \n",
    "    for ticker in list_of_tickers:\n",
    "        stock = yf.Ticker(ticker)\n",
    "        hist = stock.history(start=start_date, end=end_date, interval=\"1mo\").Close\n",
    "        hist_dict.update({ticker: hist})\n",
    "\n",
    "    return pd.DataFrame(hist_dict).dropna()"
   ]
  },
  {
   "cell_type": "code",
   "execution_count": null,
   "metadata": {},
   "outputs": [],
   "source": [
    "# Defining function that caclulates number of shares based on list_of_pcts that contains the weighting of each stock in list_of_tickers\n",
    "def num_shares_pct(list_of_tickers, hist_df, list_of_pcts):\n",
    "    num_shares = []\n",
    "    i = 0\n",
    "    for ticker in list_of_tickers:\n",
    "        stock_price = hist_df.loc[:, ticker][0]\n",
    "        num_shares.append((100000*(list_of_pcts[i]/100))/(stock_price))\n",
    "        i += 1\n",
    "    return num_shares"
   ]
  },
  {
   "cell_type": "code",
   "execution_count": null,
   "metadata": {},
   "outputs": [],
   "source": [
    "# The weighting of each stock in our portfolio\n",
    "percentages = [35, 25, 5, 5, 5, 5, 5, 5, 5, 5]"
   ]
  },
  {
   "cell_type": "code",
   "execution_count": null,
   "metadata": {},
   "outputs": [],
   "source": [
    "# extracting history of the stocks in our portolio\n",
    "hist_df = history(portfolio, start_date, end_date)"
   ]
  },
  {
   "cell_type": "code",
   "execution_count": null,
   "metadata": {},
   "outputs": [],
   "source": [
    "# The date we will buy our portfolio on\n",
    "buy_date = \"2021-11-26\"\n",
    "\n",
    "# Creating a list with the buying price of all the stocks in our portfolio\n",
    "buy_price = []\n",
    "for each_ticker in portfolio:\n",
    "    closing_price = yf.Ticker(each_ticker).history(start=buy_date).Close.values[0]\n",
    "    buy_price.append(closing_price)"
   ]
  },
  {
   "cell_type": "code",
   "execution_count": null,
   "metadata": {},
   "outputs": [],
   "source": [
    "# The number of shares bought for each stock based on our start_date \n",
    "shares = num_shares_pct(portfolio, hist_df, percentages)\n",
    "shares"
   ]
  },
  {
   "cell_type": "code",
   "execution_count": null,
   "metadata": {},
   "outputs": [],
   "source": [
    "# Defining function that calculates the portfolio based on the num of shares of each ticker in the list_of_tickers \n",
    "def portfolio_calc(list_of_tickers, hist_df, num_shares):\n",
    "    value = {}\n",
    "    n = 0\n",
    "    for ticker in list_of_tickers:\n",
    "        value.update({ticker: hist_df[ticker]*num_shares[n]})\n",
    "        n += 1\n",
    "\n",
    "    each_stock_value = pd.DataFrame(value)\n",
    "    return pd.DataFrame({\"portfolio\": each_stock_value.sum(axis=1)})\n",
    "\n",
    "# Creating a dataframe with the portfolio value\n",
    "portfolio_df = portfolio_calc(portfolio, hist_df, shares)\n",
    "\n",
    "# Joining history of each ticker in portfolio with portfolio_df\n",
    "hist_w_portfolio= pd.concat([hist_df, portfolio_df], join='inner', axis=1)"
   ]
  },
  {
   "cell_type": "code",
   "execution_count": null,
   "metadata": {},
   "outputs": [],
   "source": [
    "hist_w_portfolio"
   ]
  },
  {
   "cell_type": "code",
   "execution_count": null,
   "metadata": {},
   "outputs": [],
   "source": [
    "# Calculating Beta\n",
    "MarketIndex_hist = history([\"^GSPC\"], start_date, end_date)\n",
    "index_w_portfolio = pd.concat([portfolio_df,MarketIndex_hist], join='inner', axis=1)\n",
    "\n",
    "percent_change = index_w_portfolio.pct_change()\n",
    "percent_change.drop(index=percent_change.index[0], inplace=True)\n",
    "\n",
    "MarketVar = percent_change[\"^GSPC\"].var()\n",
    "MarketVar\n",
    "Beta = percent_change.cov()/MarketVar\n",
    "Beta"
   ]
  },
  {
   "cell_type": "code",
   "execution_count": null,
   "metadata": {},
   "outputs": [],
   "source": [
    "# Calculating sharpe ratio assuming the risk free rate of return is 0\n",
    "sharpe_ratio = portfolio_df.pct_change().mean()/portfolio_df.pct_change().std()\n",
    "sharpe_ratio"
   ]
  },
  {
   "cell_type": "code",
   "execution_count": null,
   "metadata": {},
   "outputs": [],
   "source": [
    "# Defining function that caclulates number of shares to be bought for each stock based on the prices in list_of_prices\n",
    "def num_shares_lst(list_of_tickers, list_of_prices, list_of_pcts):\n",
    "    num_shares = []\n",
    "    i = 0\n",
    "    for ticker in list_of_tickers:\n",
    "        num_shares.append((100000*(list_of_pcts[i]/100))/(list_of_prices[i]))\n",
    "        i += 1\n",
    "    return num_shares"
   ]
  },
  {
   "cell_type": "code",
   "execution_count": null,
   "metadata": {},
   "outputs": [],
   "source": [
    "# Displaying the price we are going to buy the stocks at\n",
    "buy_price  "
   ]
  },
  {
   "cell_type": "code",
   "execution_count": null,
   "metadata": {},
   "outputs": [],
   "source": [
    "# Calculating the number of shares bought\n",
    "buy_shares = num_shares_lst(portfolio, buy_price, percentages)\n",
    "buy_shares"
   ]
  },
  {
   "cell_type": "code",
   "execution_count": null,
   "metadata": {},
   "outputs": [],
   "source": [
    "# Creating dictionary with FinalPortfolio data\n",
    "FinalPortfolio_dict = {\"index\": [1, 2, 3, 4, 5, 6, 7, 8, 9, 10],\n",
    "                 \"Ticker\": portfolio,\n",
    "                       \"Price\": buy_price,\n",
    "                       \"Shares\": buy_shares,\n",
    "                      }\n",
    "# Creating Dataframe from FinalPortfolio_dict\n",
    "FinalPortfolio = pd.DataFrame(FinalPortfolio_dict) \n",
    "FinalPortfolio.set_index(\"index\", inplace=True)\n",
    "FinalPortfolio['Value'] = FinalPortfolio['Price']*FinalPortfolio['Shares']\n",
    "FinalPortfolio[\"Weight\"] = percentages\n",
    "print(\"The total value of the portfolio is: $\"+ str(FinalPortfolio.Value.sum(axis=0)))"
   ]
  },
  {
   "cell_type": "code",
   "execution_count": null,
   "metadata": {},
   "outputs": [],
   "source": [
    "print(\"The total weight of the portfolio is: \"+ str(FinalPortfolio.Weight.sum(axis=0))+\"%\")"
   ]
  },
  {
   "cell_type": "code",
   "execution_count": null,
   "metadata": {},
   "outputs": [],
   "source": [
    "FinalPortfolio"
   ]
  },
  {
   "cell_type": "code",
   "execution_count": null,
   "metadata": {},
   "outputs": [],
   "source": [
    "# Creating dictionary with Stocks data\n",
    "Stocks_dict = {\"index\": [1, 2, 3, 4, 5, 6, 7, 8, 9, 10],\n",
    "               \"Ticker\": portfolio,\n",
    "               \"Shares\": buy_shares,}  \n",
    "# Creating Dataframe from Stocks_dict \n",
    "Stocks = pd.DataFrame(Stocks_dict)\n",
    "Stocks.set_index(\"index\", inplace=True)\n",
    "Stocks"
   ]
  },
  {
   "cell_type": "code",
   "execution_count": null,
   "metadata": {},
   "outputs": [],
   "source": [
    "# Export final dataframe to a CSV file \n",
    "Stocks.to_csv('Stocks_Group_9.csv', index=False)"
   ]
  }
 ],
 "metadata": {
  "kernelspec": {
   "display_name": "CFM101",
   "language": "python",
   "name": "cfm101"
  },
  "language_info": {
   "codemirror_mode": {
    "name": "ipython",
    "version": 3
   },
   "file_extension": ".py",
   "mimetype": "text/x-python",
   "name": "python",
   "nbconvert_exporter": "python",
   "pygments_lexer": "ipython3",
   "version": "3.8.3"
  }
 },
 "nbformat": 4,
 "nbformat_minor": 4
}
